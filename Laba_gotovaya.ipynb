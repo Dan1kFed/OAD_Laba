{
  "nbformat": 4,
  "nbformat_minor": 0,
  "metadata": {
    "colab": {
      "name": "Laba gotovaya.ipynb",
      "provenance": [],
      "collapsed_sections": [
        "mNMmQVwb5821"
      ],
      "toc_visible": true
    },
    "kernelspec": {
      "name": "python3",
      "display_name": "Python 3"
    }
  },
  "cells": [
    {
      "cell_type": "markdown",
      "metadata": {
        "id": "IHMINU8n5D1k",
        "colab_type": "text"
      },
      "source": [
        "# Подготовка (pandas, numpy, etc)"
      ]
    },
    {
      "cell_type": "markdown",
      "metadata": {
        "id": "sWp-ogsB53sX",
        "colab_type": "text"
      },
      "source": [
        "## numpy"
      ]
    },
    {
      "cell_type": "code",
      "metadata": {
        "id": "ZgNSXCJC7nWe",
        "colab_type": "code",
        "colab": {}
      },
      "source": [
        "import numpy as np\n",
        "import pandas as pd\n",
        "import matplotlib.pyplot as plt\n",
        "import seaborn as sns\n",
        "from sklearn.linear_model import LinearRegression\n",
        "from sklearn.model_selection import train_test_split\n",
        "from sklearn.metrics import mean_squared_error\n",
        "\n",
        "y_pred = np.array([0.9, 0.2, 0.1, 0.4, 0.9])\n",
        "y_ans = np.array([1, 0, 0, 1, 1])"
      ],
      "execution_count": 0,
      "outputs": []
    },
    {
      "cell_type": "markdown",
      "metadata": {
        "id": "vXF2WP0M7F4E",
        "colab_type": "text"
      },
      "source": [
        "### 1. $L_1$ норма\n",
        "Напишите функцию, которая для двух векторов вычисляет их $L_1$ норму (\"манхэттенское расстояние\" или \"расстояние городских кварталов\"):\n",
        "$$\\begin{align*} & L_1(y_{pred}, y) = \\sum_{i=0}^m|y^{(i)} - y_{pred}^{(i)}| \\end{align*}$$  "
      ]
    },
    {
      "cell_type": "code",
      "metadata": {
        "id": "LmjB_H9F7NNY",
        "colab_type": "code",
        "colab": {}
      },
      "source": [
        "def L1_norm(y_pred, y_ans):    \n",
        "    return (np.sum(abs(y-y_pred)))\n",
        "\n",
        "assert round(L1_norm(y_pred, y_ans), 1)== 3047.9, 'Не верно реализован расчёт'"
      ],
      "execution_count": 0,
      "outputs": []
    },
    {
      "cell_type": "code",
      "metadata": {
        "id": "kUp31sa37QbK",
        "colab_type": "code",
        "outputId": "3bb27504-d138-4ef5-88d0-acb9e5ca7cbe",
        "colab": {
          "base_uri": "https://localhost:8080/",
          "height": 34
        }
      },
      "source": [
        "print(\"L1 = \" + str(L1_norm(y_pred,y_ans))) #L1 = 1.1"
      ],
      "execution_count": 0,
      "outputs": [
        {
          "output_type": "stream",
          "text": [
            "L1 = 3047.9\n"
          ],
          "name": "stdout"
        }
      ]
    },
    {
      "cell_type": "markdown",
      "metadata": {
        "id": "g37SpdoE6K1Y",
        "colab_type": "text"
      },
      "source": [
        "### 2. $L_2$ норма\n",
        "Напишите функцию, которая для двух векторов вычисляет их $L_2$ норму (евклидово расстояние):\n",
        "$$\\begin{align*} & L_2(y_{pred},y) = \\sum_{i=0}^m(y^{(i)} - y_{pred}^{(i)})^2 \\end{align*}$$"
      ]
    },
    {
      "cell_type": "code",
      "metadata": {
        "id": "XMBZCZzU4_8a",
        "colab_type": "code",
        "colab": {}
      },
      "source": [
        "def L2_norm(y_pred, y_ans):\n",
        "    return (np.sum((y-y_pred) ** 2 ))\n",
        "\n",
        "\n",
        "assert round(L2_norm(y_pred, y_ans), 3)== 10082.086, 'Не верно реализован расчёт'"
      ],
      "execution_count": 0,
      "outputs": []
    },
    {
      "cell_type": "code",
      "metadata": {
        "id": "sHmkty_H6FgK",
        "colab_type": "code",
        "outputId": "b3f88ba3-2f80-4774-b696-753e2be18db6",
        "colab": {
          "base_uri": "https://localhost:8080/",
          "height": 34
        }
      },
      "source": [
        "print(\"L2 = \" + str(L2_norm(y_pred,y_ans))) #L2 = 0.43"
      ],
      "execution_count": 0,
      "outputs": [
        {
          "output_type": "stream",
          "text": [
            "L2 = 10082.086\n"
          ],
          "name": "stdout"
        }
      ]
    },
    {
      "cell_type": "markdown",
      "metadata": {
        "id": "8qghVnFM6Ugv",
        "colab_type": "text"
      },
      "source": [
        "### 3. Неуникальные строки\n",
        "Напишите функцию, которая для 2-мерной матрицы произвольного размера возвращает все строки, содержащие только одинаковые значения (напр. [2, 2, 2, 2])"
      ]
    },
    {
      "cell_type": "code",
      "metadata": {
        "id": "5rRdScLe6pef",
        "colab_type": "code",
        "outputId": "71a0f023-a6ba-4701-989c-e34c6646e392",
        "colab": {
          "base_uri": "https://localhost:8080/",
          "height": 153
        }
      },
      "source": [
        "np.random.seed(777)\n",
        "Z = np.random.randint(0,5,(6,5))\n",
        "Z_eq = np.array((np.ones(5), np.zeros(5)))\n",
        "Z = np.vstack((Z, Z_eq))\n",
        "print(Z)"
      ],
      "execution_count": 0,
      "outputs": [
        {
          "output_type": "stream",
          "text": [
            "[[3. 1. 4. 1. 2.]\n",
            " [0. 2. 0. 3. 1.]\n",
            " [2. 4. 1. 3. 2.]\n",
            " [2. 2. 4. 0. 2.]\n",
            " [2. 4. 0. 0. 0.]\n",
            " [3. 2. 2. 0. 3.]\n",
            " [1. 1. 1. 1. 1.]\n",
            " [0. 0. 0. 0. 0.]]\n"
          ],
          "name": "stdout"
        }
      ]
    },
    {
      "cell_type": "code",
      "metadata": {
        "id": "cAGqv6_H6ssy",
        "colab_type": "code",
        "colab": {}
      },
      "source": [
        "def non_unique(X):\n",
        "    return (np.array([row for row in X if len(np.unique(row)) == 1 ]))"
      ],
      "execution_count": 0,
      "outputs": []
    },
    {
      "cell_type": "code",
      "metadata": {
        "id": "D-NcLz056uwr",
        "colab_type": "code",
        "outputId": "0d81b44d-c3aa-405c-b441-7a4a4a70ecaf",
        "colab": {
          "base_uri": "https://localhost:8080/",
          "height": 68
        }
      },
      "source": [
        "print(\"Equal items rows: \\n\", non_unique(Z))\n",
        "\n",
        "\n",
        "#  Ответ: \n",
        "#  [[1. 1. 1. 1. 1.]\n",
        "#  [0. 0. 0. 0. 0.]]"
      ],
      "execution_count": 0,
      "outputs": [
        {
          "output_type": "stream",
          "text": [
            "Equal items rows: \n",
            " [[1. 1. 1. 1. 1.]\n",
            " [0. 0. 0. 0. 0.]]\n"
          ],
          "name": "stdout"
        }
      ]
    },
    {
      "cell_type": "markdown",
      "metadata": {
        "id": "mNMmQVwb5821",
        "colab_type": "text"
      },
      "source": [
        "## pandas"
      ]
    },
    {
      "cell_type": "markdown",
      "metadata": {
        "id": "zFu46WPqFGZt",
        "colab_type": "text"
      },
      "source": [
        "__Прочитайте \"telecom_churn.csv\" в датафрейм__"
      ]
    },
    {
      "cell_type": "code",
      "metadata": {
        "id": "6Pe19U8R8Q6z",
        "colab_type": "code",
        "colab": {}
      },
      "source": [
        "df = pd.read_csv('telecom_churn.csv')"
      ],
      "execution_count": 0,
      "outputs": []
    },
    {
      "cell_type": "markdown",
      "metadata": {
        "id": "cAMRJ7QVFHD5",
        "colab_type": "text"
      },
      "source": [
        "__Выведите первые 10 строк__"
      ]
    },
    {
      "cell_type": "code",
      "metadata": {
        "id": "BGSU_K7oEyF8",
        "colab_type": "code",
        "colab": {}
      },
      "source": [
        "df.head(10)"
      ],
      "execution_count": 0,
      "outputs": []
    },
    {
      "cell_type": "markdown",
      "metadata": {
        "id": "N7r6G8jzFH3D",
        "colab_type": "text"
      },
      "source": [
        "__Выведите число объектов и колонок в датафрейме__"
      ]
    },
    {
      "cell_type": "code",
      "metadata": {
        "id": "4-FSnnS4Ex52",
        "colab_type": "code",
        "colab": {}
      },
      "source": [
        "df.shape"
      ],
      "execution_count": 0,
      "outputs": []
    },
    {
      "cell_type": "markdown",
      "metadata": {
        "id": "pRn1CFfIFIhA",
        "colab_type": "text"
      },
      "source": [
        "__Выведите названия всех колонок__"
      ]
    },
    {
      "cell_type": "code",
      "metadata": {
        "id": "pvuudgd4ExtM",
        "colab_type": "code",
        "colab": {}
      },
      "source": [
        "df.columns"
      ],
      "execution_count": 0,
      "outputs": []
    },
    {
      "cell_type": "markdown",
      "metadata": {
        "id": "2qxHR0awFJIX",
        "colab_type": "text"
      },
      "source": [
        "__Покажите все возможные значения поля UniqueSubs и их количества__"
      ]
    },
    {
      "cell_type": "code",
      "metadata": {
        "id": "Nb6eZo6pExhB",
        "colab_type": "code",
        "colab": {}
      },
      "source": [
        "df['UniqueSubs'].value_counts()"
      ],
      "execution_count": 0,
      "outputs": []
    },
    {
      "cell_type": "markdown",
      "metadata": {
        "id": "RFv_crS4FJzv",
        "colab_type": "text"
      },
      "source": [
        "__Сгруппируйте данные по полю MaritalStatus и посчитайте среднее для InboundCalls и OutboundCalls (ответ должен быть в виде таблицы)__"
      ]
    },
    {
      "cell_type": "code",
      "metadata": {
        "id": "wp9stt4_ExTG",
        "colab_type": "code",
        "colab": {}
      },
      "source": [
        "df.groupby(['MaritalStatus'])['InboundCalls' , 'OutboundCalls'].agg([np.mean])"
      ],
      "execution_count": 0,
      "outputs": []
    },
    {
      "cell_type": "code",
      "metadata": {
        "id": "tMtGsTMx71kG",
        "colab_type": "code",
        "colab": {}
      },
      "source": [
        ""
      ],
      "execution_count": 0,
      "outputs": []
    },
    {
      "cell_type": "markdown",
      "metadata": {
        "id": "cWxky8hQ5Dcs",
        "colab_type": "text"
      },
      "source": [
        "# Сама лаба"
      ]
    },
    {
      "cell_type": "markdown",
      "metadata": {
        "id": "951DjOrK7DwX",
        "colab_type": "text"
      },
      "source": [
        "__Считайте данные и выведете первые 5 строк датасета (tips.csv)__"
      ]
    },
    {
      "cell_type": "code",
      "metadata": {
        "id": "aKLBf4wd1f39",
        "colab_type": "code",
        "colab": {}
      },
      "source": [
        "df = pd.read_csv(\"tips.csv\")\n",
        "\n"
      ],
      "execution_count": 0,
      "outputs": []
    },
    {
      "cell_type": "code",
      "metadata": {
        "id": "gJ1XMNzApGRi",
        "colab_type": "code",
        "outputId": "842846bb-aee3-4366-f245-383b16f17219",
        "colab": {
          "base_uri": "https://localhost:8080/",
          "height": 204
        }
      },
      "source": [
        "df.head()"
      ],
      "execution_count": 0,
      "outputs": [
        {
          "output_type": "execute_result",
          "data": {
            "text/html": [
              "<div>\n",
              "<style scoped>\n",
              "    .dataframe tbody tr th:only-of-type {\n",
              "        vertical-align: middle;\n",
              "    }\n",
              "\n",
              "    .dataframe tbody tr th {\n",
              "        vertical-align: top;\n",
              "    }\n",
              "\n",
              "    .dataframe thead th {\n",
              "        text-align: right;\n",
              "    }\n",
              "</style>\n",
              "<table border=\"1\" class=\"dataframe\">\n",
              "  <thead>\n",
              "    <tr style=\"text-align: right;\">\n",
              "      <th></th>\n",
              "      <th>total_bill</th>\n",
              "      <th>tip</th>\n",
              "      <th>sex</th>\n",
              "      <th>smoker</th>\n",
              "      <th>day</th>\n",
              "      <th>time</th>\n",
              "      <th>size</th>\n",
              "    </tr>\n",
              "  </thead>\n",
              "  <tbody>\n",
              "    <tr>\n",
              "      <th>0</th>\n",
              "      <td>16.99</td>\n",
              "      <td>1.01</td>\n",
              "      <td>Female</td>\n",
              "      <td>No</td>\n",
              "      <td>Sun</td>\n",
              "      <td>Dinner</td>\n",
              "      <td>2</td>\n",
              "    </tr>\n",
              "    <tr>\n",
              "      <th>1</th>\n",
              "      <td>10.34</td>\n",
              "      <td>1.66</td>\n",
              "      <td>Male</td>\n",
              "      <td>No</td>\n",
              "      <td>Sun</td>\n",
              "      <td>Dinner</td>\n",
              "      <td>3</td>\n",
              "    </tr>\n",
              "    <tr>\n",
              "      <th>2</th>\n",
              "      <td>21.01</td>\n",
              "      <td>3.50</td>\n",
              "      <td>Male</td>\n",
              "      <td>No</td>\n",
              "      <td>Sun</td>\n",
              "      <td>Dinner</td>\n",
              "      <td>3</td>\n",
              "    </tr>\n",
              "    <tr>\n",
              "      <th>3</th>\n",
              "      <td>23.68</td>\n",
              "      <td>3.31</td>\n",
              "      <td>Male</td>\n",
              "      <td>No</td>\n",
              "      <td>Sun</td>\n",
              "      <td>Dinner</td>\n",
              "      <td>2</td>\n",
              "    </tr>\n",
              "    <tr>\n",
              "      <th>4</th>\n",
              "      <td>24.59</td>\n",
              "      <td>3.61</td>\n",
              "      <td>Female</td>\n",
              "      <td>No</td>\n",
              "      <td>Sun</td>\n",
              "      <td>Dinner</td>\n",
              "      <td>4</td>\n",
              "    </tr>\n",
              "  </tbody>\n",
              "</table>\n",
              "</div>"
            ],
            "text/plain": [
              "   total_bill   tip     sex smoker  day    time  size\n",
              "0       16.99  1.01  Female     No  Sun  Dinner     2\n",
              "1       10.34  1.66    Male     No  Sun  Dinner     3\n",
              "2       21.01  3.50    Male     No  Sun  Dinner     3\n",
              "3       23.68  3.31    Male     No  Sun  Dinner     2\n",
              "4       24.59  3.61  Female     No  Sun  Dinner     4"
            ]
          },
          "metadata": {
            "tags": []
          },
          "execution_count": 10
        }
      ]
    },
    {
      "cell_type": "markdown",
      "metadata": {
        "id": "4xN3gQS37CZR",
        "colab_type": "text"
      },
      "source": [
        ""
      ]
    },
    {
      "cell_type": "markdown",
      "metadata": {
        "id": "CVoCuMlD7O0O",
        "colab_type": "text"
      },
      "source": [
        "__Покажите на графике зависимость размера чаевых от времени и разделите это по полам__\n",
        "\n",
        "Использовать _catplot_"
      ]
    },
    {
      "cell_type": "code",
      "metadata": {
        "id": "hUIsl7MS4D20",
        "colab_type": "code",
        "outputId": "dbe24147-9be4-4cdc-ac59-55c703d28116",
        "colab": {
          "base_uri": "https://localhost:8080/",
          "height": 386
        }
      },
      "source": [
        "sns.catplot(x='tip',\n",
        "            y='time',\n",
        "            col='sex',\n",
        "            data=df)"
      ],
      "execution_count": 0,
      "outputs": [
        {
          "output_type": "execute_result",
          "data": {
            "text/plain": [
              "<seaborn.axisgrid.FacetGrid at 0x7f89f71af6d8>"
            ]
          },
          "metadata": {
            "tags": []
          },
          "execution_count": 11
        },
        {
          "output_type": "display_data",
          "data": {
            "image/png": "[encoded data removed]",
            "text/plain": [
              "<Figure size 720x360 with 2 Axes>"
            ]
          },
          "metadata": {
            "tags": []
          }
        }
      ]
    },
    {
      "cell_type": "markdown",
      "metadata": {
        "id": "Xpjdi7Uw7nYN",
        "colab_type": "text"
      },
      "source": [
        "__Покажите на графике зависимость размера чаевых от полного счета и разделите это по полам__\n",
        "\n",
        "Использовать _lineplot_"
      ]
    },
    {
      "cell_type": "code",
      "metadata": {
        "id": "wWOn_voP4EW6",
        "colab_type": "code",
        "outputId": "c7a3c34d-435f-43d8-a90d-1c25d7d43c3d",
        "colab": {
          "base_uri": "https://localhost:8080/",
          "height": 297
        }
      },
      "source": [
        "sns.lineplot(x=\"total_bill\",\n",
        "            y=\"tip\",\n",
        "            hue=\"sex\",\n",
        "            data=df)"
      ],
      "execution_count": 0,
      "outputs": [
        {
          "output_type": "execute_result",
          "data": {
            "text/plain": [
              "<matplotlib.axes._subplots.AxesSubplot at 0x7f89f6b315f8>"
            ]
          },
          "metadata": {
            "tags": []
          },
          "execution_count": 17
        },
        {
          "output_type": "display_data",
          "data": {
            "image/png": "[encoded data removed]",
            "text/plain": [
              "<Figure size 432x288 with 1 Axes>"
            ]
          },
          "metadata": {
            "tags": []
          }
        }
      ]
    },
    {
      "cell_type": "code",
      "metadata": {
        "id": "YKJtKFGX2W20",
        "colab_type": "code",
        "outputId": "a26c9e84-1363-483d-dde8-021d49feb9b4",
        "colab": {
          "base_uri": "https://localhost:8080/",
          "height": 136
        }
      },
      "source": [
        "#Просто выполните\n",
        "X_1 = df.drop(['tip', 'sex', 'smoker', 'day', 'time'], axis=1)\n",
        "X_2 = df.drop(['total_bill', 'size', 'tip'], axis=1)\n",
        "y = np.array(df.drop(['sex', 'total_bill', 'smoker', 'day', 'time', 'size'], axis=1).values)\n",
        "X_2_clear = pd.get_dummies(X_2)\n",
        "X = np.array(pd.concat([X_1,X_2_clear], axis=1).values)\n",
        "print(X)"
      ],
      "execution_count": 0,
      "outputs": [
        {
          "output_type": "stream",
          "text": [
            "[[16.99  2.    1.   ...  0.    1.    0.  ]\n",
            " [10.34  3.    0.   ...  0.    1.    0.  ]\n",
            " [21.01  3.    0.   ...  0.    1.    0.  ]\n",
            " ...\n",
            " [22.67  2.    0.   ...  0.    1.    0.  ]\n",
            " [17.82  2.    0.   ...  0.    1.    0.  ]\n",
            " [18.78  2.    1.   ...  1.    1.    0.  ]]\n"
          ],
          "name": "stdout"
        }
      ]
    },
    {
      "cell_type": "code",
      "metadata": {
        "id": "6sxv-aJjxH_x",
        "colab_type": "code",
        "colab": {}
      },
      "source": [
        "#Просто выполните\n",
        "features = pd.concat([X_1,X_2_clear], axis=1)\n",
        "target = df.drop(['sex', 'total_bill', 'smoker', 'day', 'time', 'size'], axis=1)\n",
        "train_data, test_data, train_target, test_target = train_test_split(features, target, test_size = 0.3, random_state=0)"
      ],
      "execution_count": 0,
      "outputs": []
    },
    {
      "cell_type": "markdown",
      "metadata": {
        "id": "gLgg5IIG_FtV",
        "colab_type": "text"
      },
      "source": [
        "<font size=3 >__Немного теории__</font>\n",
        "\n",
        "Мы разберем __основные метрики качества и функционалы потерь__ задачи регрессии. Далее все будем называть __метриками__.\n",
        "\n",
        "__Метрики необходимы для:__\n",
        "- поиска оптимального решения\n",
        "- оценки качества работы модели\n",
        "- сравнения моделей\n",
        "- интерпретации результатов\n",
        "\n",
        "\n",
        "\n",
        "<table border=\"1\" width=\"100%\">\n",
        " <tr>\n",
        "    <td width=\"50%\"> \n",
        "        <p> <font size=3> $MAE= \\frac{1}{n} \\sum_{i=1}^n |y_i-\\hat{y_i}|$  </font> </p> \n",
        "        <p> \n",
        "            <font size=2> \n",
        "                <span style=\"color:green; margin-left:2em\">$ +$ </span>\n",
        "                легко интерпретировать \n",
        "            </font><br/>\n",
        "            <font size=2> \n",
        "                <span style=\"color:green; margin-left:2em\">$ +$ </span>\n",
        "                единицы измерения таргета и метрики – эквивалентны\n",
        "            </font><br/>\n",
        "            <font size=2> \n",
        "                <span style=\"color:green; margin-left:2em\">$ +$ </span>\n",
        "                устойчива к выбросам \n",
        "            </font><br/>\n",
        "            <font size=2> \n",
        "                <span style=\"color:red; margin-left:2em\">$ -$ </span>\n",
        "                не ограничена сверху \n",
        "            </font><br/>\n",
        "            <font size=2> \n",
        "                <span style=\"color:red; margin-left:2em\">$ -$ </span>\n",
        "                не дифференцируема в таком виде \n",
        "            </font>\n",
        "        </p><br/>\n",
        "        <p> <font size=3> $MSE= \\frac{1}{n} \\sum_{i=1}^n (y_i-\\hat{y_i})^2$  </font> </p> \n",
        "        <p> \n",
        "            <font size=2> \n",
        "                <span style=\"color:green; margin-left:2em\">$ +$ </span>\n",
        "                дифференцируема\n",
        "            </font><br/>\n",
        "            <font size=2> \n",
        "                <span style=\"color:green; margin-left:2em\">$ +$ </span>\n",
        "                чувствительна к выбросам\n",
        "            </font><br/>\n",
        "            <font size=2> \n",
        "                <span style=\"color:red; margin-left:2em\">$ -$ </span>\n",
        "                не ограничена сверху \n",
        "            </font><br/>\n",
        "            <font size=2> \n",
        "                <span style=\"color:red; margin-left:2em\">$ -$ </span>\n",
        "                сложно интерпретировать \n",
        "            </font><br/>\n",
        "        </p><br/>\n",
        "        <p> <font size=3> $RMSE=\\sqrt{\\frac{1}{n} \\sum_{i=1}^n (y_i-\\hat{y_i})^2} $  </font> </p> \n",
        "        <p> \n",
        "            <font size=2> \n",
        "                <span style=\"color:green; margin-left:2em\">$ +$ </span>\n",
        "                дифференцируема\n",
        "            </font><br/>\n",
        "            <font size=2> \n",
        "                <span style=\"color:red; margin-left:2em\">$ -$ </span>\n",
        "                не ограничена сверху \n",
        "            </font><br/>\n",
        "            <font size=2> \n",
        "                <span style=\"color:red; margin-left:2em\">$ -$ </span>\n",
        "                еще сложнее интерпретировать \n",
        "            </font>\n",
        "        <p>Основное различие $RMSE$ и $MAE$ заключается в том, что минимизация $RMSE$ сремиться к средней оценке, а  $MAE$ к медиане</p><br/><p>$y$ $-$ истинное значение; $\\hat{y}$ $-$ предсказанное значение</p>\n",
        "        </p><br/>\n",
        "     </td>\n",
        "    <td><img src=\"./errors_2.png\" align=\"right\"></td>\n",
        " </tr>\n",
        "</table>\n",
        "\n",
        "Две попытки __объединить__ положительные __свойства метрик__:\n",
        "- [Функция потерь Хьюбера](https://en.wikipedia.org/wiki/Huber_loss): \n",
        "    * ведет себя как $MSE$ на ошибках меньше $\\sigma$ и как $MAE$ в противном случае. __Что не дает \"взрываться\" метрике на больших значениях и \"жестко\" реагирует на маленькие остатки__\n",
        "    * все так же не удобно дифференцировать\n",
        "- [Log-Cosh Loss](https://heartbeat.fritz.ai/5-regression-loss-functions-all-machine-learners-should-know-4fb140e9d4b0):\n",
        "    * принимает меньшие значения по сравнению с функцией потерь Хьюбера на всем множестве\n",
        "    * __дважды дифференцируема__, что необходимо в некоторых методах численной оптимизации.\n",
        "________________________\n",
        "__Проблема:__ все предыдущие метрики __не подходят для оценки конкретного решения__ а только для сравнения моделей, что следует из того что __функции не ограничены сверху.__ \n",
        "\n",
        "Эта проблема так же решается посредством доработок $MAE$: [MAPE](https://en.wikipedia.org/wiki/Mean_absolute_percentage_error) и [SMAPE](https://en.wikipedia.org/wiki/Symmetric_mean_absolute_percentage_error). Однако, подробно рассмотрим метрику $R^2$\n",
        "и мотивы появления $R^2_{adj}$.\n",
        "\n",
        "$$R^2=1-\\frac{\\sum_{i=1}^n (y_i-\\hat{y_i})^2}{\\sum_{i=1}^n (y_i-\\bar{y_i})^2}$$\n",
        "\n",
        "Данная метрика обладает следующими свойствами:\n",
        "\n",
        "<font size=2> \n",
        "    <span style=\"color:green; margin-left:2em\">$ +$ </span>\n",
        "     ограничена сверху и снизу, что позволяет дать оценку конкретному решению без сравнения с другими\n",
        "</font><br/>\n",
        "<font size=2> \n",
        "    <span style=\"color:green; margin-left:2em\">$ +$ </span>\n",
        "     хорошо интерпретируется: на сколько наша модель лучше, чем константное решение\n",
        "</font><br/>\n",
        "<font size=2> \n",
        "    <span style=\"color:red; margin-left:2em\">$ -$ </span>\n",
        "     не диффиренцируема\n",
        "</font><br/>\n",
        "<font size=2> \n",
        "    <span style=\"color:red; margin-left:2em\">$ -$ </span>\n",
        "     значение метрики растет (не уменьшается) при добавлении новых переменных, даже если они никак не объясняют целевой показатель. Поэтому нельзя сравнивать модели с разным количеством признаков. Данная проблема решается с помощью $R^2_{adj}$\n",
        "</font>\n",
        "\n",
        "$$R^2_{adj}=1-(1-R^2)\\frac{n-1}{n-p-1}$$\n",
        "\n",
        "где $p -$ число признаков, а $n -$ количество объектов\n",
        "\n",
        "__Рекомендации:__ использовать $R^2_{adj}$ для сравнения моделей и оценки количества переменных, а $R^2$ для оценки качества на новых объектах\n",
        "\n",
        "\n",
        "__В данном задании вам необходимо реализовать 4 основные метрики:__ $MAE; MSE; RMSE; R^2$\n",
        "\n",
        "Каждая из метрик принимает на вход 2 одномерных numpy массива:\n",
        "- __y_true__ - истинные значения \n",
        "- __y_predict__ - предсказанные значения\n",
        "\n",
        "Каждая из функций должна возврашать одно число \n",
        "\n"
      ]
    },
    {
      "cell_type": "code",
      "metadata": {
        "id": "zK8nNrD5-UZD",
        "colab_type": "code",
        "colab": {}
      },
      "source": [
        "def MAError(y_true, y_predict):\n",
        "    error = np.sum(np.abs(y_true - y_predict)) / len(y_true)\n",
        "    return error\n",
        "\n",
        "\n",
        "def MSError(y_true, y_predict):\n",
        "    error = np.sum(np.power((y_true - y_predict), 2)) / len(y_true)\n",
        "    return error\n",
        "\n",
        "\n",
        "def RMSError(y_true, y_predict):\n",
        "    error = np.sqrt(np.sum(np.power((y_true - y_predict), 2)) / len(y_true))\n",
        "    return error\n",
        "\n",
        "\n",
        "def R_square(y_true, y_predict):\n",
        "    error = 1 - (np.sum(np.power((y_true - y_predict), 2)) / np.sum(np.power((y_true - np.mean(y_true)), 2)))\n",
        "    return error\n",
        "\n",
        "\n",
        "def all_metric(y_true, y_predict):\n",
        "    d = {}\n",
        "    d['MAE'] = [MAError(y_true, y_predict)] \n",
        "    d['MSE'] = [MSError(y_true, y_predict)] \n",
        "    d['RMSE'] = [RMSError(y_true, y_predict)]\n",
        "    d['R_square'] = [R_square(y_true, y_predict)]\n",
        "    return d\n",
        "\n",
        "\n",
        "# assert round(MAError(y_true=Y_train, y_predict=Y_train_predict), 3) == 1.274, 'Не верно реализован расчёт'\n",
        "# assert time_delta(MAError, Y_train, Y_train_predict) < 1.5, 'Функция работает слишком долго, возможно вы используете лишние циклы'\n",
        "\n",
        "# assert round(MSError(y_true=Y_train, y_predict=Y_train_predict), 3) == 2.22, 'Не верно реализован расчёт'\n",
        "# assert time_delta(MSError, Y_train, Y_train_predict) < 1.5, 'Функция работает слишком долго, возможно вы используете лишние циклы'\n",
        "\n",
        "# assert round(RMSError(y_true=Y_train, y_predict=Y_train_predict), 3)== 1.49, 'Не верно реализован расчёт'\n",
        "# assert time_delta(RMSError, Y_train, Y_train_predict) < 1.5, 'Функция работает слишком долго, возможно вы используете лишние циклы'\n",
        "\n",
        "# assert round(R_square(y_true=Y_train, y_predict=Y_train_predict), 3)== 0.843, 'Не верно реализован расчёт'\n",
        "# assert time_delta(R_square, Y_train, Y_train_predict) < 1.5, 'Функция работает слишком долго, возможно вы используете лишние циклы'"
      ],
      "execution_count": 0,
      "outputs": []
    },
    {
      "cell_type": "markdown",
      "metadata": {
        "id": "v0dkjqe7A7xi",
        "colab_type": "text"
      },
      "source": [
        "Линейная регрессия - один из наиболее хорошо изученных методов машинного обучения, позволяющий прогнозировать значения количественного признака в виде линейной комбинации прочих признаков с параметрами - весами модели. Оптимальные (в смысле минимальности некоторого функционала ошибки) параметры линейной регрессии можно найти аналитически с помощью нормального уравнения или численно с помощью методов оптимизации.  \n",
        "\n",
        "Линейная регрессия использует простой функционал качества - среднеквадратичную ошибку. Мы будем работать с выборкой, содержащей 3 признака. Для настройки параметров (весов) модели решается следующая задача:\n",
        "$$\\Large \\frac{1}{\\ell}\\sum_{i=1}^\\ell{{((w_0 + w_1x_{i1} + w_2x_{i2} +  w_3x_{i3}) - y_i)}^2} \\rightarrow \\min_{w_0, w_1, w_2, w_3},$$\n",
        "где $x_{i1}, x_{i2}, x_{i3}$ - значения признаков $i$-го объекта, $y_i$ - значение целевого признака $i$-го объекта, $\\ell$ - число объектов в обучающей выборке."
      ]
    },
    {
      "cell_type": "markdown",
      "metadata": {
        "id": "Txu1pMe0CT2E",
        "colab_type": "text"
      },
      "source": [
        "Нахождение вектора оптимальных весов $w$ может быть сделано и аналитически.\n",
        "Мы хотим найти такой вектор весов $w$, чтобы вектор $y$, приближающий целевой признак, получался умножением матрицы $X$ (состоящей из всех признаков объектов обучающей выборки, кроме целевого) на вектор весов $w$. То есть, чтобы выполнялось матричное уравнение:\n",
        "$$\\Large y = Xw$$\n",
        "Домножением слева на $X^T$ получаем:\n",
        "$$\\Large X^Ty = X^TXw$$\n",
        "Это хорошо, поскольку теперь матрица $X^TX$ - квадратная, и можно найти решение (вектор $w$) в виде:\n",
        "$$\\Large w = {(X^TX)}^{-1}X^Ty$$\n",
        "\n",
        "\n",
        "Но все же на практике для больших матриц $X$ быстрее работает градиентный спуск, особенно его стохастическая версия."
      ]
    },
    {
      "cell_type": "markdown",
      "metadata": {
        "id": "ayNfj3es8RLr",
        "colab_type": "text"
      },
      "source": [
        "__Реализуйте функции__\n",
        "1. __normal_equation__, которая по заданным матрицам (массивам NumPy) X* и *y вычисляет вектор весов  𝑤  согласно нормальному уравнению линейной регрессии.\n",
        "\n",
        "2. __linear_prediction__, которая принимает на вход матрицу X* и вектор весов линейной модели *w, а возвращает вектор прогнозов в виде линейной комбинации столбцов матрицы X* с весами *w."
      ]
    },
    {
      "cell_type": "code",
      "metadata": {
        "id": "EQrLxLXkBBny",
        "colab_type": "code",
        "outputId": "82a39b4b-4d92-4033-eb04-d7f4d5651f44",
        "colab": {
          "base_uri": "https://localhost:8080/",
          "height": 221
        }
      },
      "source": [
        "def normal_equation(X, y):\n",
        "    w = np.linalg.inv(X.T@X) @ X.T @ y\n",
        "    return w\n",
        "\n",
        "\n",
        "def linear_prediction(X, w):\n",
        "    ans = np.dot(X, w)\n",
        "    return ans\n",
        "\n",
        "\n",
        "norm_eq_weights = normal_equation(X, y)\n",
        "print(norm_eq_weights)"
      ],
      "execution_count": 0,
      "outputs": [
        {
          "output_type": "stream",
          "text": [
            "[[-5.56016978e-02]\n",
            " [ 7.66761065e-01]\n",
            " [-1.13186851e+15]\n",
            " [-1.13186851e+15]\n",
            " [ 2.08502094e+15]\n",
            " [ 2.08502094e+15]\n",
            " [-9.53152428e+14]\n",
            " [-9.53152428e+14]\n",
            " [-9.53152428e+14]\n",
            " [-9.53152428e+14]\n",
            " [-1.31037500e+01]\n",
            " [-1.00092187e+01]]\n"
          ],
          "name": "stdout"
        }
      ]
    },
    {
      "cell_type": "code",
      "metadata": {
        "id": "GM7Jz5_jECAk",
        "colab_type": "code",
        "outputId": "77b8f45e-d954-4f60-d46b-535d2c34af36",
        "colab": {
          "base_uri": "https://localhost:8080/",
          "height": 34
        }
      },
      "source": [
        "tip_pred = MSError(y, linear_prediction(X, norm_eq_weights))\n",
        "print(tip_pred)\n",
        "\n",
        "assert round(MSError(y, linear_prediction(X, norm_eq_weights)), 3)== 61.562, 'Не верно реализован расчёт'"
      ],
      "execution_count": 0,
      "outputs": [
        {
          "output_type": "stream",
          "text": [
            "61.5622666991187\n"
          ],
          "name": "stdout"
        }
      ]
    },
    {
      "cell_type": "code",
      "metadata": {
        "id": "qKSL2tzX0Oam",
        "colab_type": "code",
        "colab": {}
      },
      "source": [
        "# Просто выполнить\n",
        "LinReg = LinearRegression()\n",
        "LinReg.fit(train_data, train_target)\n",
        "ans1 = LinReg.predict(test_data)"
      ],
      "execution_count": 0,
      "outputs": []
    },
    {
      "cell_type": "code",
      "metadata": {
        "id": "vOoP29Jx2zZM",
        "colab_type": "code",
        "outputId": "33ac9048-1ac4-455d-857a-482658dd7f40",
        "colab": {
          "base_uri": "https://localhost:8080/",
          "height": 34
        }
      },
      "source": [
        "# Просто выполнить\n",
        "mean_squared_error(test_target, ans1)"
      ],
      "execution_count": 0,
      "outputs": [
        {
          "output_type": "execute_result",
          "data": {
            "text/plain": [
              "0.9550808988617153"
            ]
          },
          "metadata": {
            "tags": []
          },
          "execution_count": 28
        }
      ]
    }
  ]
}